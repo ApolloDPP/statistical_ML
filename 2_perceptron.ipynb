{
 "cells": [
  {
   "cell_type": "markdown",
   "metadata": {},
   "source": [
    "# 感知机"
   ]
  },
  {
   "cell_type": "markdown",
   "metadata": {},
   "source": [
    "示例一：\n",
    "课本例题：正实例点$x_1=(3,3),x_2=(4,3)$\n",
    "负实例$x_3=(1,1)$试用感知机模型$f(x)=sign(wx+b)$分类正负点"
   ]
  },
  {
   "cell_type": "code",
   "execution_count": 238,
   "metadata": {},
   "outputs": [],
   "source": [
    "import numpy as np\n",
    "\n",
    "#训练集\n",
    "x=np.array([[3,3],[4,3],[1,1]])\n",
    "y=np.array([1,1,-1])\n",
    "\n",
    "#初始化参数\n",
    "w=np.array([0,0])\n",
    "b=0\n",
    "lr=1\n",
    "\n",
    "xi=np.array([0,0])\n",
    "yi=0\n",
    "\n",
    "#损失函数\n",
    "loss=-yi*(np.dot(w,xi)+b)\n",
    "\n"
   ]
  },
  {
   "cell_type": "code",
   "execution_count": 239,
   "metadata": {},
   "outputs": [
    {
     "name": "stdout",
     "output_type": "stream",
     "text": [
      "\n",
      "x 0 被误分类！ 参数更新为： w= [3 3] b= 1 epoch= 1\n",
      "\n",
      "x 2 被误分类！ 参数更新为： w= [2 2] b= 0 epoch= 1\n",
      "\n",
      "x 2 被误分类！ 参数更新为： w= [1 1] b= -1 epoch= 1\n",
      "\n",
      "x 2 被误分类！ 参数更新为： w= [0 0] b= -2 epoch= 1\n",
      "\n",
      "x 0 被误分类！ 参数更新为： w= [3 3] b= -1 epoch= 2\n",
      "\n",
      "x 2 被误分类！ 参数更新为： w= [2 2] b= -2 epoch= 2\n",
      "\n",
      "x 2 被误分类！ 参数更新为： w= [1 1] b= -3 epoch= 2\n"
     ]
    }
   ],
   "source": [
    "#学习,参数更新\n",
    "for j in range(10): \n",
    "    i=0\n",
    "    while i<3:\n",
    "        xi=x[i]   #取数据\n",
    "        yi=y[i]\n",
    "        loss=-yi*(np.dot(w,xi)+b)\n",
    "        if loss>=0:\n",
    "            while(loss>=0):   #判别是否需要学习\n",
    "                print()\n",
    "                w=w+lr*yi*xi   #参数更新\n",
    "                b=b+lr*yi\n",
    "                loss=-yi*(np.dot(w,xi)+b)\n",
    "                print(\"x\",i,\"被误分类！\",\"参数更新为：\",\"w=\",w,\"b=\",b,\"epoch=\",j+1)\n",
    "        i=i+1"
   ]
  },
  {
   "cell_type": "markdown",
   "metadata": {},
   "source": [
    "变换数据集训练顺序"
   ]
  },
  {
   "cell_type": "code",
   "execution_count": 240,
   "metadata": {},
   "outputs": [],
   "source": [
    "import numpy as np\n",
    "\n",
    "#训练集\n",
    "x1=np.array([[1,1],[4,3],[3,3]])\n",
    "y1=np.array([-1,1,1])\n",
    "\n",
    "#初始化参数\n",
    "w1=np.array([0,0])\n",
    "b1=0\n",
    "lr=1\n",
    "\n",
    "xi=np.array([0,0])\n",
    "yi=0\n",
    "\n",
    "#损失函数\n",
    "loss=-yi*(np.dot(w1,xi)+b1)\n",
    "\n",
    "\n"
   ]
  },
  {
   "cell_type": "code",
   "execution_count": 241,
   "metadata": {},
   "outputs": [
    {
     "name": "stdout",
     "output_type": "stream",
     "text": [
      "\n",
      "x 0 被误分类！ 参数更新为： w1= [-1 -1] b1= -1 epoch= 1\n",
      "\n",
      "x 1 被误分类！ 参数更新为： w1= [3 2] b1= 0 epoch= 1\n",
      "\n",
      "x 0 被误分类！ 参数更新为： w1= [2 1] b1= -1 epoch= 2\n",
      "\n",
      "x 0 被误分类！ 参数更新为： w1= [1 0] b1= -2 epoch= 2\n"
     ]
    }
   ],
   "source": [
    "#学习,参数更新\n",
    "for j in range(10): \n",
    "    i=0\n",
    "    while i<3:\n",
    "        xi=x1[i]   #取数据\n",
    "        yi=y1[i]\n",
    "        loss=-yi*(np.dot(w1,xi)+b1)\n",
    "        if loss>=0:\n",
    "            while(loss>=0):   #判别是否需要学习\n",
    "                print()\n",
    "                w1=w1+lr*yi*xi   #参数更新\n",
    "                b1=b1+lr*yi\n",
    "                loss=-yi*(np.dot(w1,xi)+b1)\n",
    "                print(\"x\",i,\"被误分类！\",\"参数更新为：\",\"w1=\",w1,\"b1=\",b1,\"epoch=\",j+1)\n",
    "        i=i+1\n",
    "\n",
    "\n"
   ]
  },
  {
   "cell_type": "code",
   "execution_count": 242,
   "metadata": {},
   "outputs": [
    {
     "data": {
      "text/plain": [
       "<matplotlib.legend.Legend at 0x1f6a2495a20>"
      ]
     },
     "execution_count": 242,
     "metadata": {},
     "output_type": "execute_result"
    },
    {
     "data": {
      "image/png": "[encoded data removed]",
      "text/plain": [
       "<Figure size 432x288 with 1 Axes>"
      ]
     },
     "metadata": {
      "needs_background": "light"
     },
     "output_type": "display_data"
    }
   ],
   "source": [
    "import matplotlib.pyplot as plt\n",
    "%matplotlib inline\n",
    "\n",
    "x_=np.linspace(0,4,100)\n",
    "\n",
    "for i in range (3):\n",
    "    for j in range(1):\n",
    "        if i==2:\n",
    "            plt.plot(x[i,j],x[i,j+1],\"ob\") \n",
    "        else:\n",
    "            plt.plot(x[i,j],x[i,j+1],\"og\") \n",
    "            \n",
    "        \n",
    "plt.plot(x_,3-x_,\"g\",label=\"x1+x2-3=0\")\n",
    "plt.vlines(2, -1, 3, colors = \"r\",label=\"x1-2=0\")\n",
    "\n",
    "plt.xlabel(\"x1\")\n",
    "plt.ylabel(\"x2\")\n",
    "plt.legend()\n",
    "\n",
    "    \n"
   ]
  },
  {
   "cell_type": "code",
   "execution_count": null,
   "metadata": {},
   "outputs": [],
   "source": []
  },
  {
   "cell_type": "markdown",
   "metadata": {},
   "source": [
    "示例二：sk-learn中鸢尾花"
   ]
  },
  {
   "cell_type": "code",
   "execution_count": 243,
   "metadata": {},
   "outputs": [],
   "source": [
    "import pandas as pd\n",
    "import numpy as np\n",
    "from sklearn.datasets import load_iris\n",
    "import matplotlib.pyplot as plt\n",
    "%matplotlib inline"
   ]
  },
  {
   "cell_type": "code",
   "execution_count": 244,
   "metadata": {},
   "outputs": [
    {
     "data": {
      "text/plain": [
       "<function sklearn.datasets._base.load_iris(*, return_X_y=False, as_frame=False)>"
      ]
     },
     "execution_count": 244,
     "metadata": {},
     "output_type": "execute_result"
    }
   ],
   "source": [
    "load_iris"
   ]
  },
  {
   "cell_type": "code",
   "execution_count": null,
   "metadata": {},
   "outputs": [],
   "source": []
  }
 ],
 "metadata": {
  "kernelspec": {
   "display_name": "Python 3",
   "language": "python",
   "name": "python3"
  },
  "language_info": {
   "codemirror_mode": {
    "name": "ipython",
    "version": 3
   },
   "file_extension": ".py",
   "mimetype": "text/x-python",
   "name": "python",
   "nbconvert_exporter": "python",
   "pygments_lexer": "ipython3",
   "version": "3.6.12"
  }
 },
 "nbformat": 4,
 "nbformat_minor": 4
}
